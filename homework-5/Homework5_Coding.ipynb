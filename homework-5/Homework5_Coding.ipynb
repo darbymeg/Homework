{
 "cells": [
  {
   "cell_type": "markdown",
   "metadata": {},
   "source": [
    "# Homework 5 Coding: Transport Modeling\n",
    "\n",
    "For this coding assignment, you will write functions to calculate molar flux (and sometimes current density) for several given applications.  I will do much of the coding for you, at first, but then let you handle more and more of it, as we move along.\n",
    "\n",
    "## Part I: Gas-phase diffusion in a PEMFC cathode.\n",
    "\n",
    "For this scenario, we will model gas-phase transport in the gas diffusion layer (GDL) of a PEMFC cathode.\n",
    "\n",
    "The cathode is 100 microns thick, with a porosity (gas-phase volume fraction) of 57%, with the tortuosity factor modeled using a Bruggeman coefficient of $n = -0.5$.\n",
    "\n",
    "Use the Cozeny-Karman relationship to estimate the cathode GDL permeability, with a carbon particle diameter of 0.5 microns, and an average pore radius of 2 microns.\n",
    "\n",
    "We will simulate transport at 60 C, where the dynamic viscosity of moist air is $\\mu = 2.08\\times 10^{-5}\\,\\frac{\\rm kg}{\\rm m-s}$.  The conditions at the two nodes are:\n",
    "\n",
    "1. Node 1: in the gas flow channel\n",
    "- Pressure = 1 atmosphere\n",
    "- $X_{\\rm O_2} = 0.21$\n",
    "- $X_{\\rm N_2} = 0.79$\n",
    "- $X_{\\rm H_2O} = 0.0$\n",
    "\n",
    "2. Node 2: in the catalyst layer, where O$_2$ is consumed and H$_2$O is produced:\n",
    "- Pressure = 100 kPa\n",
    "- $X_{\\rm O_2} = 0.16$\n",
    "- $X_{\\rm N_2} = 0.80$\n",
    "- $X_{\\rm H_2O} = 0.04$\n",
    "\n",
    "The gas-phase species diffusion coefficients are:\n",
    "- O$_2$: $2.438\\times 10^{-5}\\,\\frac{\\rm m^2}{\\rm s}$\n",
    "- N$_2$: $2.798\\times 10^{-5}\\,\\frac{\\rm m^2}{\\rm s}$\n",
    "- H$_2$O: $1.9\\times 10^{-5}\\,\\frac{\\rm m^2}{\\rm s}$"
   ]
  },
  {
   "cell_type": "code",
   "execution_count": 72,
   "metadata": {},
   "outputs": [],
   "source": [
    "import numpy as np\n",
    "\n",
    "#All given in problem statement\n",
    "dY = 100e-6    # m, cathode thickness\n",
    "eps_g = 0.57   #porosity (gas-phase volume fraction)\n",
    "n_Brugg = -0.5 #find tortuosity from this\n",
    "\n",
    "d_part = 0.5e-6     #carbon particle diameter \n",
    "r_p = 2e-6          #average pore radius\n",
    "\n",
    "T = 333.15 # K\n",
    "P_1 = 101325 # Pa   #node 1: in Gas flow channel\n",
    "P_2 = 100000 # Pa   #node 2: in catalyst layer\n",
    "\n",
    "R = 8.3145 # J/mol-K\n",
    "F = 96485  # C/mol equiv\n",
    "\n",
    "# Mole fraction with Species order: O2, N2, H2O_v\n",
    "X_k_1 = np.array([0.21, 0.79, 0.0])      \n",
    "X_k_2 = np.array([0.16, 0.80, 0.04])\n",
    "\n",
    "mu = 2.08e-5 #kg/m-s    #dynamic viscosity of moist air\n",
    "\n",
    "D_k = np.array([2.438e-5, 2.798e-5, 1.9e-5]) #m2/s   #diffusion coefficients"
   ]
  },
  {
   "cell_type": "markdown",
   "metadata": {},
   "source": [
    "### We are going to load all parameters into a series of Python dictionaries\n",
    "\n",
    "We will pass these dictionaries to our function.  The dictionaries just make it more efficient then having 12 different input variables."
   ]
  },
  {
   "cell_type": "code",
   "execution_count": 73,
   "metadata": {},
   "outputs": [],
   "source": [
    "# State variables for node 1:\n",
    "state1 = {'X_k':X_k_1, 'P':P_1, 'T':T}\n",
    "# State variables for node 2:\n",
    "state2 = {'X_k':X_k_2, 'P':P_2, 'T':T}\n",
    "\n",
    "# Geometric and microstructure parameters:\n",
    "geom = {'eps_g':eps_g, 'n_Brugg':n_Brugg, 'd_part':d_part, 'dY':dY}\n",
    "# Gas properties\n",
    "gas_props = {'D_k':D_k, 'mu':mu}\n"
   ]
  },
  {
   "cell_type": "markdown",
   "metadata": {},
   "source": [
    "### Example for using values stored in dictionaries:"
   ]
  },
  {
   "cell_type": "code",
   "execution_count": 74,
   "metadata": {},
   "outputs": [
    {
     "name": "stdout",
     "output_type": "stream",
     "text": [
      "2.08e-05\n",
      "[0.21 0.79 0.  ]\n",
      "The mole fractions sum to 1.0\n"
     ]
    }
   ],
   "source": [
    "# To access a dictionary value:\n",
    "print(gas_props['mu'])\n",
    "print(state1['X_k'])\n",
    "X_sum = sum(state1['X_k'])\n",
    "print('The mole fractions sum to',X_sum)"
   ]
  },
  {
   "cell_type": "markdown",
   "metadata": {},
   "source": [
    "## YOUR CODE GOES HERE:\n",
    "\n",
    "Create a function that calculates the species fluxes, given our input dictionaries.\n",
    "\n",
    "The function must return an array `N_k` that provides the species molar fluxes in mol/m$^2$-s. "
   ]
  },
  {
   "cell_type": "code",
   "execution_count": 75,
   "metadata": {
    "scrolled": true
   },
   "outputs": [
    {
     "name": "stdout",
     "output_type": "stream",
     "text": [
      "[ 0.19912682 -0.00727519 -0.11793726]\n"
     ]
    },
    {
     "data": {
      "text/plain": [
       "array([ 0.19912682, -0.00727519, -0.11793726])"
      ]
     },
     "execution_count": 75,
     "metadata": {},
     "output_type": "execute_result"
    }
   ],
   "source": [
    "#Calculate molar flux of gas species\n",
    "\n",
    "gam_n = 1                                              #Bruggemen correlation, assumed\n",
    "\n",
    "def pemfc_gas_transport(state1, state2, geom, gas_props):\n",
    "    N_k = np.zeros_like(state1['X_k'])\n",
    "    \n",
    "    tau_fac = gam_n*geom['eps_g']**(geom['n_Brugg'])       #Tortuosity factor where (1- alpha_m = n = given)\n",
    "    K_m = (geom['eps_g']**3*geom['d_part']**2)/(72*tau_fac**2*(1-geom['eps_g'])**2)      #Kozeny- Carman rel. for permeability\n",
    "    g_P  = (state2['P']-state1['P'])/geom['dY']                            #gradient in pressure\n",
    "    V_conv = (-K_m/gas_props['mu'])*g_P                                    #Darcy's Law to find convective velocity (same for all species)\n",
    "    \n",
    "    D_k_eff = (geom['eps_g']/tau_fac)*gas_props['D_k'] \n",
    "    \n",
    "    C_1 = state1['P']/(R*state1['T'])\n",
    "    C_2 = state2['P']/(R*state2['T'])\n",
    "    C_avg = (C_1+C_2)/2                                     #avg concentration/concentration at the interface\n",
    "    \n",
    "    X_k_avg = (state1['X_k']+state2['X_k'])/2               #mole fraction at interface/avg mole fraction\n",
    "    \n",
    "    g_X = (state2['X_k'] - state1['X_k'])/geom['dY']        #gradient in molar fraction\n",
    "    V_k_diff = -D_k_eff*g_X*(1/X_k_avg)                     #diffusive velocity \n",
    "    #V_k_diff = -D_k_eff*((X_k_2 - X_k_1)/geom['dY'])*(1/X_k_avg) \n",
    "    \n",
    "    V_k = V_conv + V_k_diff\n",
    "    \n",
    "    N_k = C_avg*X_k_avg*V_k     #molar flux equation\n",
    "    \n",
    "    print(N_k)\n",
    "    \n",
    "    return N_k\n",
    "\n",
    "pemfc_gas_transport(state1, state2, geom, gas_props)     "
   ]
  },
  {
   "cell_type": "markdown",
   "metadata": {},
   "source": [
    "### Now calculate the fluxes between nodes 1 and 2 (you do not need to do anything; just run the cell)\n",
    "### Then check your answers against mine:"
   ]
  },
  {
   "cell_type": "code",
   "execution_count": 76,
   "metadata": {},
   "outputs": [
    {
     "name": "stdout",
     "output_type": "stream",
     "text": [
      "[ 0.19912682 -0.00727519 -0.11793726]\n"
     ]
    },
    {
     "data": {
      "text/plain": [
       "Text(0.5, 0, 'Species')"
      ]
     },
     "execution_count": 76,
     "metadata": {},
     "output_type": "execute_result"
    },
    {
     "data": {
      "image/png": "[encoded data removed]",
      "text/plain": [
       "<Figure size 432x288 with 1 Axes>"
      ]
     },
     "metadata": {
      "needs_background": "light"
     },
     "output_type": "display_data"
    }
   ],
   "source": [
    "N_k_calc = pemfc_gas_transport(state1, state2, geom, gas_props)\n",
    "\n",
    "from matplotlib import pyplot as plt\n",
    "width = 0.35\n",
    "N_k_check = np.array([0.19913, -0.007275, -0.11794]) #mol/m2/s\n",
    "\n",
    "fig, ax = plt.subplots()\n",
    "\n",
    "labels = ['O2', 'N2', 'H2O']\n",
    "x = np.arange(len(labels))\n",
    "\n",
    "ax.bar(x+width/2,N_k_check,width)\n",
    "ax.bar(x-width/2,N_k_calc,width)\n",
    "ax.legend(['DeCaluwe\\'s Answer','My Answer'],frameon=False)\n",
    "\n",
    "ax.set_xticks(x)\n",
    "ax.set_xticklabels(labels)\n",
    "\n",
    "ax.set_ylabel('Diffusion coefficient (m$^2$/s)',fontsize=14)\n",
    "ax.set_xlabel('Species',fontsize=14)"
   ]
  },
  {
   "cell_type": "markdown",
   "metadata": {},
   "source": [
    "## Part II: Charged species transport in a liquid electrolyte:\n",
    "\n",
    "Next we will calculate molar fluxes for a liquid electrolyte in a battery anode.  These calculations will be for electro-diffusion only - there is no convection!\n",
    "\n",
    "The molar density of the electrolyte is assumed constant at 1100 moles per m$^3$\n",
    "\n",
    "The temperature is 45$^\\circ$C.\n",
    "\n",
    "The electrolyte is LiPF$_6$, dissolved in a generic \"solvent\" molecule, with the following conditions:\n",
    "\n",
    "1. Node 1:\n",
    "- $X_{\\rm Li^+} = 0.03$\n",
    "- $X_{\\rm PF^-_6} = 0.03$\n",
    "- $X_{\\rm Solvent} = 0.94$\n",
    "- Electric potential $\\phi_1 = 0.9$ V\n",
    "\n",
    "2. Node 2:\n",
    "- $X_{\\rm Li^+} = 0.06$\n",
    "- $X_{\\rm PF^-_6} = 0.06$\n",
    "- $X_{\\rm Solvent} = 0.88$\n",
    "- Electric potential $\\phi_2 = 0.5$ V\n",
    "\n",
    "The distance between the nodes is 30 microns, and the average diameter of the solid active material particles is 5 microns.  The anode porosity (electrolyte volume fraction) is 23%, and the tortuosity is characterized by a Bruggeman coefficient of -0.5."
   ]
  },
  {
   "cell_type": "code",
   "execution_count": 77,
   "metadata": {},
   "outputs": [],
   "source": [
    "C_elyte = 1100 #mol/m3\n",
    "\n",
    "# Species order: Li+, PF6-, solvent\n",
    "X_k_1 = np.array([0.03, 0.03, 0.94])\n",
    "X_k_2 = np.array([0.06, 0.06, 0.88])\n",
    "\n",
    "z_k = np.array([1., -1., 0.])\n",
    "\n",
    "T = 318.  #K\n",
    "\n",
    "dY = 30e-6\n",
    "\n",
    "D_k = np.array([1.52e-10, 0.25e-10, 1e-12])\n",
    "\n",
    "phi_1 = 0.9\n",
    "phi_2 = 0.5\n",
    "\n",
    "d_part = 5e-6\n",
    "\n",
    "eps_elyte = 0.23\n",
    "n_brugg = -0.5"
   ]
  },
  {
   "cell_type": "markdown",
   "metadata": {},
   "source": [
    "## ENTER CODE HERE \n",
    "\n",
    "### to Create the Necessary Dictionaries. We will call the states just 's1' and 's2', this time:"
   ]
  },
  {
   "cell_type": "code",
   "execution_count": 78,
   "metadata": {},
   "outputs": [],
   "source": [
    "s1 = {'X_k': X_k_1, 'phi':phi_1}\n",
    "s2 = {'X_k': X_k_2, 'phi':phi_2}\n",
    "\n",
    "geom = {'eps_e':eps_elyte,'n_B':n_Brugg, 'd_part':d_part, 'dY':dY}\n",
    "e_pars = {'C_e':C_elyte, 'z_k': z_k, 'D_k':D_k}                        #electrolyte parameters"
   ]
  },
  {
   "cell_type": "markdown",
   "metadata": {},
   "source": [
    "## NOW CREATE YOUR FLUX-CALCULATING FUNCTION:"
   ]
  },
  {
   "cell_type": "code",
   "execution_count": 79,
   "metadata": {
    "scrolled": true
   },
   "outputs": [
    {
     "data": {
      "text/plain": [
       "array([ 3.85365989e-04, -6.94492909e-05,  2.42669075e-07])"
      ]
     },
     "execution_count": 79,
     "metadata": {},
     "output_type": "execute_result"
    }
   ],
   "source": [
    "def electrolyte_transport(s1, s2, geom, e_pars):\n",
    "    N_k = np.zeros_like(s1['X_k'])\n",
    "    \n",
    "    #Finding D_k_eff                                                          \n",
    "    tau_fac = gam_n*geom['eps_e']**(geom['n_B'])           #Tortuosity factor where (1- alpha_m = n = given)\n",
    "    D_k_eff = (geom['eps_e']/tau_fac)*e_pars['D_k']        #Finding eff. diffusion coefficent for each species\n",
    "\n",
    "    \n",
    "    C_k_1 = e_pars['C_e']*s1['X_k']\n",
    "    C_k_2 = e_pars['C_e']*s2['X_k']\n",
    "    #print(C_k_1)\n",
    "    #print(C_k_2)\n",
    "    C_avg = (C_k_1 + C_k_2)/2                       #molar concentration avg/at interface\n",
    "    \n",
    "    g_X = (s2['X_k'] - s1['X_k'])/geom['dY']        #gradient in molar fraction \n",
    "    X_k_avg = (s1['X_k']+s2['X_k'])/2               #mole fraction at interface/avg mole fraction\n",
    "    \n",
    "    g_phi = (s2['phi']-s1['phi'])/geom['dY']          #gradient in phi\n",
    "    N_k = -D_k_eff*(C_avg/X_k_avg)*g_X - D_k_eff*C_avg*((e_pars['z_k']*F)/(R*T))*g_phi\n",
    "   \n",
    "    #print(N_k)\n",
    "    \n",
    "    return N_k\n",
    "\n",
    "electrolyte_transport(s1, s2, geom, e_pars)"
   ]
  },
  {
   "cell_type": "markdown",
   "metadata": {},
   "source": [
    "Now we loop over a range of Node 2 electric potentials.  We use the fluxes to calculate the current density:\n",
    "\\begin{equation}\n",
    "i = F\\sum_k z_kN_k\n",
    "\\end{equation}"
   ]
  },
  {
   "cell_type": "code",
   "execution_count": 80,
   "metadata": {
    "scrolled": true
   },
   "outputs": [],
   "source": [
    "dPhi = np.linspace(0,1.1,25)\n",
    "currents = np.zeros_like(dPhi)\n",
    "N_k = np.zeros((len(dPhi), len(z_k)))\n",
    "\n",
    "for j, phi in enumerate(dPhi):\n",
    "    s2['phi'] = phi                                              #writing over state 2 phi with new cycled Phi 2\n",
    "    N_k[j,:] = electrolyte_transport(s1, s2, geom, e_pars)\n",
    "    currents[j] = np.dot(z_k,N_k[j,:])*F\n",
    "    #print(s2['phi'])\n",
    "    #print(N_k[j,:])\n",
    "    #print(currents[j])"
   ]
  },
  {
   "cell_type": "markdown",
   "metadata": {},
   "source": [
    "## Plot the currents and check them against mine.\n",
    "(You do not need to enter anything)\n",
    "### For what potential is the current equal to zero?"
   ]
  },
  {
   "cell_type": "code",
   "execution_count": 81,
   "metadata": {},
   "outputs": [
    {
     "name": "stdout",
     "output_type": "stream",
     "text": [
      "Zero current at dPhi =  0.8868918122866205\n"
     ]
    },
    {
     "data": {
      "image/png": "[encoded data removed]",
      "text/plain": [
       "<Figure size 432x288 with 1 Axes>"
      ]
     },
     "metadata": {
      "needs_background": "light"
     },
     "output_type": "display_data"
    }
   ],
   "source": [
    "current_check = np.array([100.,  95.,  90.,  85.,  80.,  75.,  69.,\n",
    "                          64.,  59.,  54.,  49.,  43.,  38.,  33.,\n",
    "                          28.,  23.,  17.,  12.,   7.,   2.,  -3.,\n",
    "                          -9.,    -14., -19., -24.])\n",
    "\n",
    "plt.plot(dPhi, currents, 'k')\n",
    "plt.plot(dPhi, current_check, 'ro', markerfacecolor=None)\n",
    "plt.plot(dPhi, np.zeros_like(dPhi),'--',color='0.5')\n",
    "plt.xlabel('Electric potential difference (V)',fontsize=14)\n",
    "plt.ylabel('Current density (A/m$^2$)',fontsize=14)\n",
    "\n",
    "zero=np.interp(0, np.flip(currents), np.flip(dPhi))\n",
    "print('Zero current at dPhi = ',zero)\n"
   ]
  },
  {
   "cell_type": "code",
   "execution_count": 82,
   "metadata": {},
   "outputs": [
    {
     "data": {
      "text/plain": [
       "[<matplotlib.lines.Line2D at 0x2b794335fd0>]"
      ]
     },
     "execution_count": 82,
     "metadata": {},
     "output_type": "execute_result"
    },
    {
     "data": {
      "image/png": "[encoded data removed]",
      "text/plain": [
       "<Figure size 432x288 with 1 Axes>"
      ]
     },
     "metadata": {
      "needs_background": "light"
     },
     "output_type": "display_data"
    }
   ],
   "source": [
    "\n",
    "plt.plot(dPhi, N_k[:,0],linewidth=2.5)\n",
    "plt.plot(dPhi, N_k[:,1],linewidth=2.5)\n",
    "\n",
    "plt.xlabel('Electric potential difference (V)',fontsize=14)\n",
    "plt.ylabel('Molar flux (mol/m$^2$-s)',fontsize=14)\n",
    "plt.legend(['Li$^+$','PF$_6^-$'],frameon=False,fontsize=14)\n",
    "plt.plot([zero,zero],[N_k[-1,0],N_k[0,0]],'--',color='0.5')\n",
    "plt.plot([0,1],[0,0],'--',color='0.5')"
   ]
  },
  {
   "cell_type": "markdown",
   "metadata": {},
   "source": [
    "## Discuss the plot above in this Markdown block.  When is zero ionic current achieved?\n",
    "\n",
    "There is zero ionic current when $\\phi_2 = 0.887$ V. We see that as we increase Node 2 electric potential, our gradient in phi will decrease in magnitude. This effects the second term in our molar flux derivation ($N_k$) ultimately effecting the ionic current across the electrolyte.  \n",
    "\n",
    "For the battery anode, the current density is entirely ionic current density, dependent on the calculated $N_k$ by the summation equation above. Therefore, the \"zero current\" condition for $i_{io}$ coincides with zero molar flux for the charged species. On the plot above, we can clearly see that both species cross the $0 N_k$ trendline when we reach $\\phi_2 = 0.887$ V or $i_{io}= 0$ A/m^2.   \n",
    "\n"
   ]
  },
  {
   "cell_type": "markdown",
   "metadata": {},
   "source": [
    "### Now predict current as a function of electrolyte volume fraction $\\varepsilon_{\\rm elyte}$\n",
    "\n",
    "(You do not need to type anything)"
   ]
  },
  {
   "cell_type": "code",
   "execution_count": 83,
   "metadata": {},
   "outputs": [
    {
     "data": {
      "text/plain": [
       "Text(0, 0.5, 'Current Density (A/m$^2$)')"
      ]
     },
     "execution_count": 83,
     "metadata": {},
     "output_type": "execute_result"
    },
    {
     "data": {
      "image/png": "[encoded data removed]",
      "text/plain": [
       "<Figure size 432x288 with 1 Axes>"
      ]
     },
     "metadata": {
      "needs_background": "light"
     },
     "output_type": "display_data"
    }
   ],
   "source": [
    "eps_array = np.linspace(0.05,0.95,25)\n",
    "\n",
    "currents = np.zeros_like(eps_array)\n",
    "for j, eps in enumerate(eps_array):\n",
    "    geom['eps_e'] = eps\n",
    "    N_k = electrolyte_transport(s1, s2, geom, e_pars)\n",
    "    currents[j] = np.dot(e_pars['z_k'],N_k)*F\n",
    "    \n",
    "plt.plot(eps_array, currents,'b',linewidth=2.5)\n",
    "plt.xlabel('Electrolyte Volume Fraction', fontsize=14)\n",
    "plt.ylabel('Current Density (A/m$^2$)',fontsize=14)"
   ]
  },
  {
   "cell_type": "markdown",
   "metadata": {},
   "source": [
    "### Discuss the results.  If you were designing a high-performance anode, what $\\varepsilon_{\\rm elyte}$ value would you pick?  Why?\n",
    "\n",
    "Correctly, my plot shows that as you increase the electrolyte volume fraction you will increase the magnitude of the current density. This is because as anode porosity increases, the effective diffusion coefficient of each species in that anode increases, increasing the molar flux of each species. An increased species molar flux yields an increased ionic current density. \n",
    "\n",
    "If I were designing a high-performance anode, I would probably choose a high value of electrolyte volume fraction/ anode porosity (for instance, $\\varepsilon_{\\rm elyte} = 0.6$) while keeping separation between anode and cathode and general mechanical robustness in mind. We can't have $\\varepsilon_{\\rm elyte} = 1$, because that would imply no separator and a short between anode and cathode. We also want this high-performance anode to last a sufficient number of cycles, so we don't want an overly porous separator that can cause cycling fatigue and additional shorts. I would need to do additional research to see what a \"high\" electrolyte volume fraction when balancing battery performance and life. "
   ]
  },
  {
   "cell_type": "markdown",
   "metadata": {},
   "source": [
    "## Part III. Charged defects in a proton-conducting ceramic:\n",
    "\n",
    "The protonic ceramic membrane in this section has a fixed crystal lattice that can be occupied by one of three species:\n",
    "\n",
    "- An oxygen atom, O$^\\times$ (this is considered the neutral species)\n",
    "- A vacancy,V$_{\\rm O}^{\\bullet\\bullet}$ which has a charge of +2, relative to the oxygen\n",
    "- An oxygen atom with a proton attached, OH$^\\bullet$\n",
    "\n",
    "The lattice site concentration is assumed fixed at 22,325 mol per m$^3$.\n",
    "\n",
    "The vacancy and proton are considered mobile, while the oxide is considered fixed.  We will simulate transport at 600$^\\circ$C, where the diffusion coefficients are:\n",
    "\n",
    "- $D_{\\rm V_{\\rm O}^{\\bullet\\bullet}} = 1.28\\times 10^{-12}\\,\\frac{\\rm m^2}{\\rm s}$\n",
    "- $D_{\\rm O^\\times} = 0.0\\,\\frac{\\rm m^2}{\\rm s}$\n",
    "- $D_{\\rm OH^\\bullet} = 7.46\\times 10^{-11}\\,\\frac{\\rm m^2}{\\rm s}$\n",
    "\n",
    "The membrane also has a small amount of electronic conductivity, $\\sigma_{\\rm el} = 0.001\\,\\frac{\\rm S}{\\rm m}$.\n",
    "\n",
    "We will simulate transport between two nodes, which are 20 microns apart.  The conditions are:\n",
    "\n",
    "1. Node 1:\n",
    "- $X_{\\rm V_{\\rm O}^{\\bullet\\bullet}} = 0.336$\n",
    "- $X_{\\rm O^\\times} = 0.627$\n",
    "- $X_{\\rm OH^\\bullet} = 0.037$\n",
    "- $\\phi_1 = 1.1$\n",
    "\n",
    "2. Node 2:\n",
    "- $X_{\\rm V_{\\rm O}^{\\bullet\\bullet}} = 0.018$\n",
    "- $X_{\\rm O^\\times} = 0.938$\n",
    "- $X_{\\rm OH^\\bullet} = 0.044$\n",
    "- $\\phi_2 = 0.0$\n",
    "\n",
    "## Enter the data, here:"
   ]
  },
  {
   "cell_type": "code",
   "execution_count": 88,
   "metadata": {},
   "outputs": [],
   "source": [
    "#Given information\n",
    "\n",
    "C = 22325     #mol/m^3, lattice site concentration\n",
    "T = 873.15    #K \n",
    "\n",
    "#species order: vacancy, O, OH\n",
    "z_k = np.array([2, 0, 1])                  #species charge\n",
    "\n",
    "#species order: vacancy, O, OH\n",
    "D_k = np.array([1.28E-12, 0., 7.46E-11])   #m^2/s\n",
    "\n",
    "sig_el = 0.001            #S/m, conductivity \n",
    "\n",
    "dY = 20E-6                #m \n",
    "\n",
    "#species: vacancy, O, OH\n",
    "X_k_1 = np.array([0.336, 0.627, 0.037])\n",
    "X_k_2 = np.array([0.018, 0.938, 0.044])\n",
    "\n",
    "phi_1 = 1.1\n",
    "phi_2 = 0.\n",
    "\n",
    "#put most into directories, some global still\n",
    "s1 = {'X_k': X_k_1, 'phi': phi_1}\n",
    "s2 = {'X_k': X_k_2, 'phi': phi_2 }\n",
    "\n",
    "geom = {'dY': dY}\n",
    "cer_pars = {'C': C, 'z_k':z_k, 'D_k':D_k, 'sig_el': sig_el}"
   ]
  },
  {
   "cell_type": "markdown",
   "metadata": {},
   "source": [
    "## CREATE YOUR TRANSPORT FUNCTION HERE.\n",
    "\n",
    "This function should return the fluxes, N_k, and the total current (ionic + electronic)."
   ]
  },
  {
   "cell_type": "code",
   "execution_count": 85,
   "metadata": {},
   "outputs": [
    {
     "data": {
      "text/plain": [
       "(array([0.00784875, 0.        , 0.04872117]), 6270.4344456111485)"
      ]
     },
     "execution_count": 85,
     "metadata": {},
     "output_type": "execute_result"
    }
   ],
   "source": [
    "def protonic_transport(s1, s2, geom, cer_pars):\n",
    "    N_k = np.zeros_like(s1['X_k'])\n",
    "     \n",
    "    C_k_1 = cer_pars['C']*s1['X_k']\n",
    "    C_k_2 = cer_pars['C']*s2['X_k']\n",
    "    C_avg = (C_k_1 + C_k_2)/2                       #molar concentration avg/at interface\n",
    "    \n",
    "    g_X = (s2['X_k'] - s1['X_k'])/geom['dY']        #gradient in molar fraction \n",
    "    X_k_avg = (s1['X_k']+s2['X_k'])/2               #mole fraction at interface/avg mole fraction\n",
    "    \n",
    "    g_phi = (s2['phi']-s1['phi'])/geom['dY']        #gradient in phi\n",
    "    \n",
    "    #not using D_k_eff this time\n",
    "    N_k = -cer_pars['D_k']*(C_avg/X_k_avg)*g_X - cer_pars['D_k']*C_avg*((cer_pars['z_k']*F)/(R*T))*g_phi\n",
    "    \n",
    "    i_io = np.dot(cer_pars['z_k'],N_k)*F            #ionic current\n",
    "    i_el = -g_phi*sig_el                            #electronic current, A/m^2\n",
    "    #print(i_el)\n",
    "    #print(i_io)\n",
    "    \n",
    "    current = i_io + i_el                           #total current is ionic and electronic\n",
    "    #print(current)\n",
    "    \n",
    "    return N_k, current\n",
    "\n",
    "protonic_transport(s1, s2, geom, cer_pars)"
   ]
  },
  {
   "cell_type": "markdown",
   "metadata": {},
   "source": [
    "## Here, we loop over a range of electric potential diffrerences between node 1 and node 2.\n",
    "\n",
    "You do not need to do anything; just run the cell.\n",
    "\n",
    "We will plot both the total current and the Faradaic efficiency, as a function of $\\Delta \\phi$.  \n",
    "\n",
    "The Faradaic efficiency $\\eta_{\\rm Far}$ refers to the fact that the electronic leakage current is \"undesired,\" for the protonic fuel cell.  We want all current to move ions across the membrane.  Therefore we find the efficiency as:\n",
    "\\begin{equation}\n",
    "    \\eta_{\\rm Far} = \\frac{i_{\\rm ion}}{i_{\\rm total}}\n",
    "\\end{equation}"
   ]
  },
  {
   "cell_type": "code",
   "execution_count": 86,
   "metadata": {},
   "outputs": [
    {
     "data": {
      "text/plain": [
       "(99.0, 100.0)"
      ]
     },
     "execution_count": 86,
     "metadata": {},
     "output_type": "execute_result"
    },
    {
     "data": {
      "image/png": "[encoded data removed]",
      "text/plain": [
       "<Figure size 432x288 with 2 Axes>"
      ]
     },
     "metadata": {
      "needs_background": "light"
     },
     "output_type": "display_data"
    }
   ],
   "source": [
    "dPhi = np.linspace(0.0, 1.0, 100)\n",
    "eta_Far = np.zeros_like(dPhi)\n",
    "i_tot = np.zeros_like(dPhi)\n",
    "\n",
    "for j, deltaPhi in enumerate(dPhi):\n",
    "    s2['phi'] = s1['phi']-deltaPhi\n",
    "    Nk, i_tot[j] = protonic_transport(s1, s2, geom, cer_pars)\n",
    "    i_ion = np.dot(Nk,cer_pars['z_k'])*F\n",
    "    \n",
    "    eta_Far[j] = 100*i_ion/i_tot[j]\n",
    "    #print(eta_Far[j])\n",
    "    \n",
    "# Plot the results:\n",
    "fig, ax = plt.subplots()\n",
    "plt.plot(dPhi, i_tot,color='b')   \n",
    "# Create a 2nd y axis:\n",
    "ax2 = ax.twinx()\n",
    "ax2.plot(dPhi, eta_Far,'r')\n",
    "\n",
    "# Formatting:\n",
    "ax.set_xlabel('Electric Potential Difference ($\\phi_1 - \\phi_2$, V)', fontsize=14)\n",
    "\n",
    "ax.tick_params(axis='y',color='r',labelcolor='b',labelsize=12)\n",
    "ax.set_ylabel('Current density (A/m$^2$)',color='b',fontsize=14)\n",
    "ax.tick_params(axis='y',color='r',labelcolor='b',labelsize=12)\n",
    "\n",
    "ax2.set_ylabel('Faradaic Efficiency (%)',color='r',fontsize=14)\n",
    "ax2.tick_params(axis='y',color='r',labelcolor='r',labelsize=12)\n",
    "ax2.tick_params(axis='y',color='r',labelcolor='r',labelsize=12)\n",
    "ax2.set_ylim((99,100))"
   ]
  },
  {
   "cell_type": "markdown",
   "metadata": {},
   "source": [
    "## In this markdown cell, discuss the plot.  What explains the trends?\n",
    "\n",
    "To check your answers, your total current should go from roughly zero at $\\Delta\\phi = 0$, to nearly 6000 A/m$^2$ at $\\Delta\\phi = 1.0.$ Over the same range, the Faradaic efficiency should go from 100% to roughly 99.1%.\n",
    "\n",
    "High $i_{el}$ is undesired in operation of our protonic fuel cell. We see in our protonic transport function that $i_{el}$ is about 0.9% the magnitude $i_{io}$, so $i_{io}$ is driving our operation (as we want it to). The second term in $i_{io}$ includes $\\nabla \\phi$ and is one times higher order of magnitude then the first term. A larger $\\nabla \\phi$ and by extension a larger difference between $\\phi_1$  and $\\phi_2$, yield a higher $i_{io}$, and therefore, a significantly higher $i_{tot}$ in a roughly linear fashion ($N_k$ is a linear function of $\\nabla \\phi$). In our cycling $\\phi$ function above, we are changing $\\phi_2$ from $1.1$ V to $0.1$ V, making $\\nabla \\phi$ go from $0$ V/m to $\\frac{1}{20E-6}$ V/m, yielding this large increase in $i_{tot}$.\n",
    "\n",
    "$i_{el}$ is a function of $-\\nabla \\phi$. When $\\phi_2$ is assigned as $1.1$ V, $\\nabla \\phi$ =0 V, so there is no $i_{el}$ and faradaic efficiency is 100%. As $\\phi_2$ is increased and updated in the function above, $-\\nabla \\phi$ becomes non-zero, and increasing in magnitude, so faradaic efficiency reduces slightly but not significantly. This effect is not as drastic because as we discuss above $N_K$ and also $i_{io}$ are a function of $\\nabla \\phi$ as well. "
   ]
  },
  {
   "cell_type": "markdown",
   "metadata": {},
   "source": [
    "### Now loop over a smaller range of potentials, to see where we get a net current of zero.\n",
    "\n",
    "(you do not need to type anything; just run the cell)."
   ]
  },
  {
   "cell_type": "code",
   "execution_count": 87,
   "metadata": {},
   "outputs": [
    {
     "data": {
      "text/plain": [
       "<matplotlib.legend.Legend at 0x2b795833d00>"
      ]
     },
     "execution_count": 87,
     "metadata": {},
     "output_type": "execute_result"
    },
    {
     "data": {
      "image/png": "[encoded data removed]",
      "text/plain": [
       "<Figure size 432x288 with 2 Axes>"
      ]
     },
     "metadata": {
      "needs_background": "light"
     },
     "output_type": "display_data"
    }
   ],
   "source": [
    "dPhi = np.linspace(-0.01, 0.01, 20)\n",
    "N_k = np.zeros((len(dPhi),len(s1['X_k'])))\n",
    "i_tot = np.zeros_like(dPhi)\n",
    "\n",
    "for j, deltaPhi in enumerate(dPhi):\n",
    "    s2['phi'] = s1['phi']-deltaPhi\n",
    "    N_k[j,:], i_tot[j] = protonic_transport(s1, s2, geom, cer_pars)\n",
    "\n",
    "fig, ax = plt.subplots()\n",
    "plt.plot(1000*dPhi, i_tot,color='b')\n",
    "\n",
    "zero = 1000*np.interp(0,i_tot,dPhi)\n",
    "plt.plot([zero,zero],[i_tot[0],i_tot[-1]],'--',color='0.5')\n",
    "\n",
    "ax.set_ylabel('Current density (A/m$^2$)',color='b',fontsize=14)\n",
    "ax.tick_params(axis='y',color='k',labelcolor='b',labelsize=12)\n",
    "ax.tick_params(axis='y',color='k',labelcolor='b',labelsize=12)\n",
    "\n",
    "ax.tick_params(axis='x',color='k',labelcolor='k',labelsize=12)\n",
    "ax.set_xlabel('Electric Potential Difference ($\\phi_1 - \\phi_2$, mV)', fontsize=14)\n",
    "# ax.set_xlim((-0.01,0.01))\n",
    "\n",
    "ax2 = ax.twinx()\n",
    "ax2.plot(1000*dPhi, N_k[:,0],'r.--')\n",
    "ax2.plot(1000*dPhi, N_k[:,2],color='r')\n",
    "\n",
    "ax2.set_ylabel('Species Flux (mol/m$^2$-s)',color='r',fontsize=14)\n",
    "ax2.tick_params(axis='y',color='r',labelcolor='r',labelsize=12)\n",
    "\n",
    "ax2.legend(['Vacancy','Proton'],fontsize=14,frameon=False)"
   ]
  },
  {
   "cell_type": "markdown",
   "metadata": {
    "scrolled": true
   },
   "source": [
    "### Discuss the result.  Is the 'zero current' condition the same as for the battery anode?  \n",
    "\n",
    "What about your model equations explains the trends?\n",
    "\n",
    "As shown in the plot above, there will be $i_{tot}$ = 0 A/m^2 when $\\phi_1 - \\phi_2 = ~ -.0055$ V. $\\phi_1$ is unchanging at $1.1$ V, so this current minimum happens when $\\phi_2 = ~1.1055$ V. This is similar to the \"zero current\" condition in the battery anode as they are both positive values ($\\phi_2 = ~1.1055$ V and $\\phi_2 = 0.866$ V for the fuel cell and battery respectively), but one thing that is different is that for the battery the \"zero current\" conditions occurs also when the molar fluxes for the charged species are equal to 0, and that is not the case for the protonic fuel cell. This is due to the impact of $i_{el}$ discussed above. If $i_{tot} = i_{io}$ as with part 2, our species fluxes would also be at zero conditions at the \"zero current\" condition. But in this instance, we have the effect of electronic current due to membrane conductivity in play so the vacancy and proton flux is non-zero when $i_{tot} =0$ A/m^2. "
   ]
  }
 ],
 "metadata": {
  "kernelspec": {
   "display_name": "Python 3",
   "language": "python",
   "name": "python3"
  },
  "language_info": {
   "codemirror_mode": {
    "name": "ipython",
    "version": 3
   },
   "file_extension": ".py",
   "mimetype": "text/x-python",
   "name": "python",
   "nbconvert_exporter": "python",
   "pygments_lexer": "ipython3",
   "version": "3.8.3"
  }
 },
 "nbformat": 4,
 "nbformat_minor": 4
}
